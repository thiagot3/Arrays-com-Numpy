{
 "cells": [
  {
   "cell_type": "markdown",
   "id": "48388a4d",
   "metadata": {},
   "source": [
    "## Trabalhando Arrays usando Numpy"
   ]
  },
  {
   "cell_type": "markdown",
   "id": "9fda22fe",
   "metadata": {},
   "source": [
    "### Instalando e importando o Numpy"
   ]
  },
  {
   "cell_type": "code",
   "execution_count": 61,
   "id": "2b1dcccf",
   "metadata": {},
   "outputs": [
    {
     "name": "stdout",
     "output_type": "stream",
     "text": [
      "Collecting rasterio\n",
      "  Downloading rasterio-1.3.3-cp39-cp39-win_amd64.whl (22.2 MB)\n",
      "Collecting affine\n",
      "  Downloading affine-2.3.1-py2.py3-none-any.whl (16 kB)\n",
      "Collecting cligj>=0.5\n",
      "  Downloading cligj-0.7.2-py3-none-any.whl (7.1 kB)\n",
      "Requirement already satisfied: click>=4.0 in c:\\users\\thiag\\anaconda3\\lib\\site-packages (from rasterio) (8.0.3)\n",
      "Collecting snuggs>=1.4.1\n",
      "  Downloading snuggs-1.4.7-py3-none-any.whl (5.4 kB)\n",
      "Requirement already satisfied: attrs in c:\\users\\thiag\\anaconda3\\lib\\site-packages (from rasterio) (21.2.0)\n",
      "Collecting click-plugins\n",
      "  Downloading click_plugins-1.1.1-py2.py3-none-any.whl (7.5 kB)\n",
      "Requirement already satisfied: certifi in c:\\users\\thiag\\anaconda3\\lib\\site-packages (from rasterio) (2021.10.8)\n",
      "Requirement already satisfied: setuptools in c:\\users\\thiag\\anaconda3\\lib\\site-packages (from rasterio) (58.0.4)\n",
      "Requirement already satisfied: numpy>=1.18 in c:\\users\\thiag\\anaconda3\\lib\\site-packages (from rasterio) (1.20.3)\n",
      "Requirement already satisfied: colorama in c:\\users\\thiag\\anaconda3\\lib\\site-packages (from click>=4.0->rasterio) (0.4.4)\n",
      "Requirement already satisfied: pyparsing>=2.1.6 in c:\\users\\thiag\\anaconda3\\lib\\site-packages (from snuggs>=1.4.1->rasterio) (3.0.4)\n",
      "Installing collected packages: snuggs, cligj, click-plugins, affine, rasterio\n",
      "Successfully installed affine-2.3.1 click-plugins-1.1.1 cligj-0.7.2 rasterio-1.3.3 snuggs-1.4.7\n"
     ]
    }
   ],
   "source": [
    "\"\"\"\n",
    "    CASO O NUMPY OU O RASTERIO NÂO ESTEJAM INSTALADOS EXECUTE:\n",
    "      #instalar Numpy \n",
    "        !pip install numpy\n",
    "      #instalar rasterio \n",
    "        !pip install rasterio\n",
    "\"\"\"\n",
    "#importar o numpy para a aplicação:\n",
    "import numpy as np"
   ]
  },
  {
   "cell_type": "markdown",
   "id": "f3e90628",
   "metadata": {},
   "source": [
    "### Funções Básicas"
   ]
  },
  {
   "cell_type": "code",
   "execution_count": 3,
   "id": "0d330894",
   "metadata": {},
   "outputs": [
    {
     "data": {
      "text/plain": [
       "array([1, 2, 3])"
      ]
     },
     "execution_count": 3,
     "metadata": {},
     "output_type": "execute_result"
    }
   ],
   "source": [
    "#Criar Matriz a partir de uma lista de valores:\n",
    "a = np.array([1,2,3])\n",
    "a"
   ]
  },
  {
   "cell_type": "code",
   "execution_count": 4,
   "id": "75979a40",
   "metadata": {},
   "outputs": [
    {
     "data": {
      "text/plain": [
       "(3,)"
      ]
     },
     "execution_count": 4,
     "metadata": {},
     "output_type": "execute_result"
    }
   ],
   "source": [
    "#Retornar uma tupla de inteiros indicando o tamanho do array (linhas, colunas)\n",
    "a.shape"
   ]
  },
  {
   "cell_type": "code",
   "execution_count": 5,
   "id": "1b21c48c",
   "metadata": {
    "scrolled": true
   },
   "outputs": [
    {
     "data": {
      "text/plain": [
       "1"
      ]
     },
     "execution_count": 5,
     "metadata": {},
     "output_type": "execute_result"
    }
   ],
   "source": [
    "#Retornar o rank(quantidade de dimenções)\n",
    "a.ndim"
   ]
  },
  {
   "cell_type": "code",
   "execution_count": 6,
   "id": "058d5c79",
   "metadata": {},
   "outputs": [
    {
     "data": {
      "text/plain": [
       "array([1, 2, 3, 4])"
      ]
     },
     "execution_count": 6,
     "metadata": {},
     "output_type": "execute_result"
    }
   ],
   "source": [
    "#Criar matriz a partir de um range de valores\n",
    "b = np.arange(1,5)\n",
    "b\n"
   ]
  },
  {
   "cell_type": "code",
   "execution_count": 7,
   "id": "96f46730",
   "metadata": {},
   "outputs": [
    {
     "data": {
      "text/plain": [
       "(4,)"
      ]
     },
     "execution_count": 7,
     "metadata": {},
     "output_type": "execute_result"
    }
   ],
   "source": [
    "#Retornar quantidade de elementos de um array\n",
    "b.shape"
   ]
  },
  {
   "cell_type": "code",
   "execution_count": 8,
   "id": "6ac43df9",
   "metadata": {},
   "outputs": [
    {
     "data": {
      "text/plain": [
       "array([ 0.        ,  1.11111111,  2.22222222,  3.33333333,  4.44444444,\n",
       "        5.55555556,  6.66666667,  7.77777778,  8.88888889, 10.        ])"
      ]
     },
     "execution_count": 8,
     "metadata": {},
     "output_type": "execute_result"
    }
   ],
   "source": [
    "#Criar array a partir de valores espaçados linearmente de acordo com um intervalo\n",
    "c = np.linspace(0,10, num= 10)\n",
    "c\n"
   ]
  },
  {
   "cell_type": "code",
   "execution_count": 9,
   "id": "097ecacf",
   "metadata": {},
   "outputs": [
    {
     "data": {
      "text/plain": [
       "array([ 0,  1,  2,  3,  4,  5,  6,  7,  8,  9, 10, 11, 12, 13, 14, 15, 16,\n",
       "       17, 18, 19, 20, 21, 22, 23, 24, 25, 26, 27, 28, 29, 30, 31, 32, 33,\n",
       "       34, 35, 36, 37, 38, 39, 40, 41, 42, 43, 44, 45, 46, 47, 48, 49, 50,\n",
       "       51, 52, 53, 54, 55, 56, 57, 58, 59, 60, 61, 62, 63, 64, 65, 66, 67,\n",
       "       68, 69, 70, 71, 72, 73, 74, 75, 76, 77, 78, 79, 80, 81, 82, 83, 84,\n",
       "       85, 86, 87, 88, 89, 90, 91, 92, 93, 94, 95, 96, 97, 98, 99])"
      ]
     },
     "execution_count": 9,
     "metadata": {},
     "output_type": "execute_result"
    }
   ],
   "source": [
    "#Criar array\n",
    "a = np.arange(0,100)#Sempre com uma dimenção\n",
    "a"
   ]
  },
  {
   "cell_type": "code",
   "execution_count": 10,
   "id": "44036f40",
   "metadata": {
    "scrolled": false
   },
   "outputs": [
    {
     "data": {
      "text/plain": [
       "array([[ 0,  1,  2,  3,  4,  5,  6,  7,  8,  9],\n",
       "       [10, 11, 12, 13, 14, 15, 16, 17, 18, 19],\n",
       "       [20, 21, 22, 23, 24, 25, 26, 27, 28, 29],\n",
       "       [30, 31, 32, 33, 34, 35, 36, 37, 38, 39],\n",
       "       [40, 41, 42, 43, 44, 45, 46, 47, 48, 49],\n",
       "       [50, 51, 52, 53, 54, 55, 56, 57, 58, 59],\n",
       "       [60, 61, 62, 63, 64, 65, 66, 67, 68, 69],\n",
       "       [70, 71, 72, 73, 74, 75, 76, 77, 78, 79],\n",
       "       [80, 81, 82, 83, 84, 85, 86, 87, 88, 89],\n",
       "       [90, 91, 92, 93, 94, 95, 96, 97, 98, 99]])"
      ]
     },
     "execution_count": 10,
     "metadata": {},
     "output_type": "execute_result"
    }
   ],
   "source": [
    "#Converter Array de 1D para 2D \n",
    "b = a.reshape(10,10) #10 linhas e 10 colunas respectivamente\n",
    "b"
   ]
  },
  {
   "cell_type": "code",
   "execution_count": 11,
   "id": "b29d74bd",
   "metadata": {},
   "outputs": [
    {
     "data": {
      "text/plain": [
       "(10, 10)"
      ]
     },
     "execution_count": 11,
     "metadata": {},
     "output_type": "execute_result"
    }
   ],
   "source": [
    "#Verificar quantidade de Linhas e Colunas\n",
    "b.shape"
   ]
  },
  {
   "cell_type": "code",
   "execution_count": 12,
   "id": "36aba89e",
   "metadata": {},
   "outputs": [
    {
     "data": {
      "text/plain": [
       "2"
      ]
     },
     "execution_count": 12,
     "metadata": {},
     "output_type": "execute_result"
    }
   ],
   "source": [
    "#Consultar dimenções do array\n",
    "b.ndim"
   ]
  },
  {
   "cell_type": "code",
   "execution_count": 13,
   "id": "e82a91da",
   "metadata": {},
   "outputs": [],
   "source": [
    "#Converter array 1D para 2D\n",
    "c = a[np.newaxis]"
   ]
  },
  {
   "cell_type": "code",
   "execution_count": 14,
   "id": "64019106",
   "metadata": {},
   "outputs": [
    {
     "name": "stdout",
     "output_type": "stream",
     "text": [
      "Array a = (100,) \t Array c = (1, 100)\n"
     ]
    }
   ],
   "source": [
    "#Verificar diferença entre os dois arrays\n",
    "print(\"Array a =\",a.shape,\"\\t\",\"Array c =\",c.shape)"
   ]
  },
  {
   "cell_type": "code",
   "execution_count": 16,
   "id": "95f7569e",
   "metadata": {},
   "outputs": [
    {
     "data": {
      "text/plain": [
       "array([  5,   7,   8,   6,   1,  10,  16,  18,  50,  24,  89, 100,  63,\n",
       "        41,  22,  28,  33,  35,   0])"
      ]
     },
     "execution_count": 16,
     "metadata": {},
     "output_type": "execute_result"
    }
   ],
   "source": [
    "#Criar novo array\n",
    "d = np.array ([5,7,8,6,1,10,16,18,50,24,89,100,63,41,22,28,33,35,0])\n",
    "d"
   ]
  },
  {
   "cell_type": "code",
   "execution_count": 18,
   "id": "beffe2fd",
   "metadata": {},
   "outputs": [
    {
     "name": "stdout",
     "output_type": "stream",
     "text": [
      "5\n",
      "7\n",
      "8\n",
      "6\n",
      "1\n",
      "10\n",
      "16\n",
      "18\n",
      "50\n",
      "24\n",
      "89\n",
      "100\n",
      "63\n",
      "41\n",
      "22\n",
      "28\n",
      "33\n",
      "35\n",
      "0\n"
     ]
    }
   ],
   "source": [
    "#Iterar elementos do array\n",
    "for element in d2.flat:\n",
    "    print(element)"
   ]
  },
  {
   "cell_type": "code",
   "execution_count": 23,
   "id": "63809542",
   "metadata": {},
   "outputs": [
    {
     "name": "stdout",
     "output_type": "stream",
     "text": [
      "0\n",
      "1\n",
      "5\n",
      "6\n",
      "7\n",
      "8\n",
      "10\n",
      "16\n",
      "18\n",
      "22\n",
      "24\n",
      "28\n",
      "33\n",
      "35\n",
      "41\n",
      "50\n",
      "63\n",
      "89\n",
      "100\n"
     ]
    }
   ],
   "source": [
    "#Ordenar valores do array\n",
    "d2 = np.sort(d)\n",
    "for element in d2.flat:\n",
    "    print(element)"
   ]
  },
  {
   "cell_type": "code",
   "execution_count": 30,
   "id": "4d653c6f",
   "metadata": {},
   "outputs": [
    {
     "data": {
      "text/plain": [
       "array([[1, 2],\n",
       "       [3, 4]])"
      ]
     },
     "execution_count": 30,
     "metadata": {},
     "output_type": "execute_result"
    }
   ],
   "source": [
    "#Declarar array de duas dimenções\n",
    "data = np.array([[1,2],[3,4]])\n",
    "data"
   ]
  },
  {
   "cell_type": "code",
   "execution_count": 33,
   "id": "a252a4f5",
   "metadata": {},
   "outputs": [
    {
     "data": {
      "text/plain": [
       "array([[1., 1.],\n",
       "       [1., 1.]])"
      ]
     },
     "execution_count": 33,
     "metadata": {},
     "output_type": "execute_result"
    }
   ],
   "source": [
    "#Declarar array de duas linhas e duas colunas de valores unitários usando np.ones\n",
    "ones = np.ones([2,2])\n",
    "ones"
   ]
  },
  {
   "cell_type": "code",
   "execution_count": 35,
   "id": "1d8c7556",
   "metadata": {},
   "outputs": [
    {
     "data": {
      "text/plain": [
       "array([[2., 3.],\n",
       "       [4., 5.]])"
      ]
     },
     "execution_count": 35,
     "metadata": {},
     "output_type": "execute_result"
    }
   ],
   "source": [
    "#Somar arrays\n",
    "data + ones"
   ]
  },
  {
   "cell_type": "code",
   "execution_count": 37,
   "id": "202134ff",
   "metadata": {},
   "outputs": [
    {
     "data": {
      "text/plain": [
       "array([[0., 1.],\n",
       "       [2., 3.]])"
      ]
     },
     "execution_count": 37,
     "metadata": {},
     "output_type": "execute_result"
    }
   ],
   "source": [
    "#Subtrair arrays\n",
    "data - ones"
   ]
  },
  {
   "cell_type": "code",
   "execution_count": 46,
   "id": "ebec51e7",
   "metadata": {},
   "outputs": [
    {
     "data": {
      "text/plain": [
       "[2, 2, 2, 2, 2, 2, 2, 2, 2, 2, 2, 2, 2, 2, 2, 2, 2, 2, 2]"
      ]
     },
     "execution_count": 46,
     "metadata": {},
     "output_type": "execute_result"
    }
   ],
   "source": [
    "#Declarar array com vlores únicos para as proximas operações\n",
    "duos = [2] * 19\n",
    "duos"
   ]
  },
  {
   "cell_type": "code",
   "execution_count": 51,
   "id": "18236aac",
   "metadata": {},
   "outputs": [
    {
     "data": {
      "text/plain": [
       "array([  0,   1,   5,   6,   7,   8,  10,  16,  18,  22,  24,  28,  33,\n",
       "        35,  41,  50,  63,  89, 100])"
      ]
     },
     "execution_count": 51,
     "metadata": {},
     "output_type": "execute_result"
    }
   ],
   "source": [
    "d2 #Valor declarado anteriormente"
   ]
  },
  {
   "cell_type": "code",
   "execution_count": 50,
   "id": "9eb6034c",
   "metadata": {},
   "outputs": [
    {
     "data": {
      "text/plain": [
       "array([  0,   2,  10,  12,  14,  16,  20,  32,  36,  44,  48,  56,  66,\n",
       "        70,  82, 100, 126, 178, 200])"
      ]
     },
     "execution_count": 50,
     "metadata": {},
     "output_type": "execute_result"
    }
   ],
   "source": [
    "#Multiplicar arrays\n",
    "d2 * duos"
   ]
  },
  {
   "cell_type": "code",
   "execution_count": 52,
   "id": "eb06269c",
   "metadata": {},
   "outputs": [
    {
     "data": {
      "text/plain": [
       "array([ 0. ,  0.5,  2.5,  3. ,  3.5,  4. ,  5. ,  8. ,  9. , 11. , 12. ,\n",
       "       14. , 16.5, 17.5, 20.5, 25. , 31.5, 44.5, 50. ])"
      ]
     },
     "execution_count": 52,
     "metadata": {},
     "output_type": "execute_result"
    }
   ],
   "source": [
    "#Dividir arrays\n",
    "d2 / duos"
   ]
  },
  {
   "cell_type": "code",
   "execution_count": 54,
   "id": "84747f2c",
   "metadata": {},
   "outputs": [
    {
     "data": {
      "text/plain": [
       "array([11, 12, 13, 14, 15, 16, 17, 18, 19, 20, 21, 22, 23, 24, 25])"
      ]
     },
     "execution_count": 54,
     "metadata": {},
     "output_type": "execute_result"
    }
   ],
   "source": [
    "#Somar constantes\n",
    "seq = np.arange(1,16)\n",
    "seq + 10"
   ]
  },
  {
   "cell_type": "code",
   "execution_count": 55,
   "id": "db63060f",
   "metadata": {},
   "outputs": [
    {
     "data": {
      "text/plain": [
       "array([-9, -8, -7, -6, -5, -4, -3, -2, -1,  0,  1,  2,  3,  4,  5])"
      ]
     },
     "execution_count": 55,
     "metadata": {},
     "output_type": "execute_result"
    }
   ],
   "source": [
    "#Subtrair constantes\n",
    "seq - 10"
   ]
  },
  {
   "cell_type": "code",
   "execution_count": 57,
   "id": "e72778fc",
   "metadata": {},
   "outputs": [
    {
     "data": {
      "text/plain": [
       "array([ 10,  20,  30,  40,  50,  60,  70,  80,  90, 100, 110, 120, 130,\n",
       "       140, 150])"
      ]
     },
     "execution_count": 57,
     "metadata": {},
     "output_type": "execute_result"
    }
   ],
   "source": [
    "#Multiplicar constantes\n",
    "seq * 10"
   ]
  },
  {
   "cell_type": "code",
   "execution_count": 58,
   "id": "21de271b",
   "metadata": {},
   "outputs": [
    {
     "data": {
      "text/plain": [
       "array([0.1, 0.2, 0.3, 0.4, 0.5, 0.6, 0.7, 0.8, 0.9, 1. , 1.1, 1.2, 1.3,\n",
       "       1.4, 1.5])"
      ]
     },
     "execution_count": 58,
     "metadata": {},
     "output_type": "execute_result"
    }
   ],
   "source": [
    "#Dividir constantes\n",
    "seq / 10"
   ]
  },
  {
   "cell_type": "markdown",
   "id": "078bcef0",
   "metadata": {},
   "source": [
    "### Exercício Prático Numpy\n"
   ]
  },
  {
   "cell_type": "markdown",
   "id": "2226b66b",
   "metadata": {},
   "source": [
    "#### Preparando Imagem de satélite"
   ]
  },
  {
   "cell_type": "code",
   "execution_count": 63,
   "id": "e9825fff",
   "metadata": {},
   "outputs": [],
   "source": [
    "#Importar Rasterio\n",
    "import rasterio #comando de instalação no início do código\n",
    "#Importar sub-módulo para vizualizar imagem\n",
    "from rasterio.plot import show"
   ]
  },
  {
   "cell_type": "code",
   "execution_count": 83,
   "id": "bf91cfb0",
   "metadata": {},
   "outputs": [],
   "source": [
    "#Ler imagem\n",
    "'''É necessário colocar o caminho da imagem entre as \"\"'''\n",
    "dataset = rasterio.open(r\"C:\\Users\\thiag\\OneDrive\\Documentos\\Python Scripts\\Formação DEX\\arquivos da aplicação\\crop_rapideye.tif\")"
   ]
  },
  {
   "cell_type": "code",
   "execution_count": 84,
   "id": "b056698c",
   "metadata": {},
   "outputs": [
    {
     "data": {
      "image/png": "[encoded data removed]",
      "text/plain": [
       "<Figure size 432x288 with 1 Axes>"
      ]
     },
     "metadata": {
      "needs_background": "light"
     },
     "output_type": "display_data"
    },
    {
     "data": {
      "text/plain": [
       "<AxesSubplot:>"
      ]
     },
     "execution_count": 84,
     "metadata": {},
     "output_type": "execute_result"
    }
   ],
   "source": [
    "show(dataset)"
   ]
  },
  {
   "cell_type": "code",
   "execution_count": 107,
   "id": "e960a421",
   "metadata": {},
   "outputs": [
    {
     "data": {
      "text/plain": [
       "array([[   0, 6068, 6105, ..., 7005, 7085,    0],\n",
       "       [   0, 6198, 6273, ..., 6958, 7035,    0],\n",
       "       [   0, 6309, 6169, ..., 7154, 7162,    0],\n",
       "       ...,\n",
       "       [   0, 5908, 5900, ..., 7113, 7203,    0],\n",
       "       [   0, 5910, 5953, ..., 7101, 7142,    0],\n",
       "       [   0, 5880, 5992, ..., 7227, 7309,    0]], dtype=uint16)"
      ]
     },
     "execution_count": 107,
     "metadata": {},
     "output_type": "execute_result"
    }
   ],
   "source": [
    "#Converter dataset em objeto ndarray\n",
    "dataset_array = dataset.read(1)\n",
    "dataset_array"
   ]
  },
  {
   "cell_type": "markdown",
   "id": "485e490d",
   "metadata": {},
   "source": [
    "#### Analizando Matriz"
   ]
  },
  {
   "cell_type": "code",
   "execution_count": 109,
   "id": "6558b8c9",
   "metadata": {},
   "outputs": [
    {
     "data": {
      "text/plain": [
       "2"
      ]
     },
     "execution_count": 109,
     "metadata": {},
     "output_type": "execute_result"
    }
   ],
   "source": [
    "#Quantidade de dimenções\n",
    "dataset_array.ndim"
   ]
  },
  {
   "cell_type": "code",
   "execution_count": 108,
   "id": "9675e05a",
   "metadata": {},
   "outputs": [
    {
     "data": {
      "text/plain": [
       "(771, 1169)"
      ]
     },
     "execution_count": 108,
     "metadata": {},
     "output_type": "execute_result"
    }
   ],
   "source": [
    "#Quantidade de elementos em cada dimenção\n",
    "dataset_array.shape"
   ]
  },
  {
   "cell_type": "code",
   "execution_count": 110,
   "id": "4055ef39",
   "metadata": {},
   "outputs": [
    {
     "data": {
      "text/plain": [
       "dtype('uint16')"
      ]
     },
     "execution_count": 110,
     "metadata": {},
     "output_type": "execute_result"
    }
   ],
   "source": [
    "#Tipo dos dados\n",
    "dataset_array.dtype"
   ]
  },
  {
   "cell_type": "code",
   "execution_count": 111,
   "id": "b00930e4",
   "metadata": {},
   "outputs": [
    {
     "data": {
      "text/plain": [
       "2"
      ]
     },
     "execution_count": 111,
     "metadata": {},
     "output_type": "execute_result"
    }
   ],
   "source": [
    "#Comprimento de um elemento do array em bytes\n",
    "dataset_array.itemsize"
   ]
  },
  {
   "cell_type": "code",
   "execution_count": 112,
   "id": "398ab16e",
   "metadata": {
    "scrolled": true
   },
   "outputs": [
    {
     "data": {
      "text/plain": [
       "901299"
      ]
     },
     "execution_count": 112,
     "metadata": {},
     "output_type": "execute_result"
    }
   ],
   "source": [
    "#Número total de elementos do array\n",
    "dataset_array.size"
   ]
  },
  {
   "cell_type": "markdown",
   "id": "7f697776",
   "metadata": {},
   "source": [
    "#### Extraindo caracteristicas estatísticas descritivas do array Numpy "
   ]
  },
  {
   "cell_type": "code",
   "execution_count": 114,
   "id": "ac4d7506",
   "metadata": {},
   "outputs": [
    {
     "data": {
      "text/plain": [
       "7107.597241315036"
      ]
     },
     "execution_count": 114,
     "metadata": {},
     "output_type": "execute_result"
    }
   ],
   "source": [
    "#Calcular média\n",
    "dataset_array.mean()"
   ]
  },
  {
   "cell_type": "code",
   "execution_count": 116,
   "id": "b7932180",
   "metadata": {},
   "outputs": [
    {
     "data": {
      "text/plain": [
       "883.0605295194446"
      ]
     },
     "execution_count": 116,
     "metadata": {},
     "output_type": "execute_result"
    }
   ],
   "source": [
    "#Calcular desvio padrão\n",
    "dataset_array.std()"
   ]
  },
  {
   "cell_type": "code",
   "execution_count": 117,
   "id": "16bfc6bc",
   "metadata": {},
   "outputs": [
    {
     "data": {
      "text/plain": [
       "0"
      ]
     },
     "execution_count": 117,
     "metadata": {},
     "output_type": "execute_result"
    }
   ],
   "source": [
    "#Verificar valor mínimo \n",
    "dataset_array.min()"
   ]
  },
  {
   "cell_type": "code",
   "execution_count": 118,
   "id": "8d853c27",
   "metadata": {},
   "outputs": [
    {
     "data": {
      "text/plain": [
       "18381"
      ]
     },
     "execution_count": 118,
     "metadata": {},
     "output_type": "execute_result"
    }
   ],
   "source": [
    "#Verificar valor máximo\n",
    "dataset_array.max()"
   ]
  },
  {
   "cell_type": "code",
   "execution_count": 119,
   "id": "bed81efb",
   "metadata": {},
   "outputs": [
    {
     "data": {
      "text/plain": [
       "2111102990"
      ]
     },
     "execution_count": 119,
     "metadata": {},
     "output_type": "execute_result"
    }
   ],
   "source": [
    "#Soma de todos os elementos do array\n",
    "dataset_array.sum()"
   ]
  },
  {
   "cell_type": "code",
   "execution_count": 123,
   "id": "fecbbd4c",
   "metadata": {},
   "outputs": [
    {
     "data": {
      "text/plain": [
       "array([    0,  5314,  5393, ..., 18129, 18312, 18381], dtype=uint16)"
      ]
     },
     "execution_count": 123,
     "metadata": {},
     "output_type": "execute_result"
    }
   ],
   "source": [
    "#Verificar valores únicos do array\n",
    "np.unique(dataset_array)"
   ]
  }
 ],
 "metadata": {
  "kernelspec": {
   "display_name": "Python 3 (ipykernel)",
   "language": "python",
   "name": "python3"
  },
  "language_info": {
   "codemirror_mode": {
    "name": "ipython",
    "version": 3
   },
   "file_extension": ".py",
   "mimetype": "text/x-python",
   "name": "python",
   "nbconvert_exporter": "python",
   "pygments_lexer": "ipython3",
   "version": "3.9.7"
  }
 },
 "nbformat": 4,
 "nbformat_minor": 5
}
